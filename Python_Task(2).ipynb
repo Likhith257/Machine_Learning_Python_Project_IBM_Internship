{
  "cells": [
    {
      "cell_type": "markdown",
      "metadata": {
        "id": "ZICiXsc1xej0"
      },
      "source": [
        "**1. What are the rules for naming variables in python?**"
      ]
    },
    {
      "cell_type": "markdown",
      "metadata": {
        "id": "wt4_dSEssV20"
      },
      "source": [
        "variables should contain letters like a-z/A-Z, numbers 0-9, and underscore _. starting variable name must be letter or underscore. Python is case sensitive means that variables must be typed properly like myVar & myvar are considered different variables."
      ]
    },
    {
      "cell_type": "markdown",
      "metadata": {
        "id": "aFETV-hTxzso"
      },
      "source": [
        "**2. What is the diff b/w a list and tuple in python?**"
      ]
    },
    {
      "cell_type": "markdown",
      "metadata": {
        "id": "Dctobv4ex4xZ"
      },
      "source": [
        "lists - they are immutable, square brackets [], mutable (basically can be changed),"
      ]
    },
    {
      "cell_type": "code",
      "execution_count": 13,
      "metadata": {
        "colab": {
          "base_uri": "https://localhost:8080/"
        },
        "id": "KnroSmK5w2_K",
        "outputId": "8c0b32c0-94dc-4404-80f1-ae2e70121deb"
      },
      "outputs": [
        {
          "data": {
            "text/plain": [
              "[1, 2, 3]"
            ]
          },
          "execution_count": 13,
          "metadata": {},
          "output_type": "execute_result"
        }
      ],
      "source": [
        "#Example\n",
        "my_list=[1,2,3]\n",
        "my_list"
      ]
    },
    {
      "cell_type": "markdown",
      "metadata": {
        "id": "2YxxoNh5y9Wm"
      },
      "source": [
        "tuples - they are mutable, uses parentheses (), a bit faster and uses less memory"
      ]
    },
    {
      "cell_type": "code",
      "execution_count": 14,
      "metadata": {
        "colab": {
          "base_uri": "https://localhost:8080/"
        },
        "id": "bSfiBf7qzS0i",
        "outputId": "d84fd366-8ca5-4ad4-fbc0-2eb1d09434a8"
      },
      "outputs": [
        {
          "data": {
            "text/plain": [
              "(1, 2, 3)"
            ]
          },
          "execution_count": 14,
          "metadata": {},
          "output_type": "execute_result"
        }
      ],
      "source": [
        "#Example\n",
        "my_tuple=(1,2,3)\n",
        "my_tuple"
      ]
    },
    {
      "cell_type": "markdown",
      "metadata": {
        "id": "4dfZySuWzdvK"
      },
      "source": [
        "**3. Explain the difference b/w a set and a dctionary?**"
      ]
    },
    {
      "cell_type": "markdown",
      "metadata": {
        "id": "sB7WYqfAzqxZ"
      },
      "source": [
        "Set - a collection of unordered unique values, only values are allowed such as {1,2,3},mutable, uses curly braces {}\n",
        "\n",
        "Dictionaries - data is stored in the form of key:value pairs, keys are unique but values are changeable, uses curly braces as well {}, duplication is allowed only in values"
      ]
    },
    {
      "cell_type": "code",
      "execution_count": 15,
      "metadata": {
        "colab": {
          "base_uri": "https://localhost:8080/"
        },
        "id": "YkxaYWW1057k",
        "outputId": "ce099354-16cb-45ed-f70a-6543189d0fa0"
      },
      "outputs": [
        {
          "data": {
            "text/plain": [
              "{'name': 'Likhith', 'age': 21}"
            ]
          },
          "execution_count": 15,
          "metadata": {},
          "output_type": "execute_result"
        }
      ],
      "source": [
        "#Set\n",
        "my_set={1,2,3}\n",
        "my_set\n",
        "#Dictionary\n",
        "my_dict={'name':'Likhith','age':21}\n",
        "my_dict"
      ]
    },
    {
      "cell_type": "markdown",
      "metadata": {
        "id": "yp5wO8l31Wq8"
      },
      "source": [
        "**4. What is the use of with statement in the file handling?**"
      ]
    },
    {
      "cell_type": "markdown",
      "metadata": {
        "id": "SKoUNIOb1ra7"
      },
      "source": [
        "it automatically opens and closes a file, with it there is no need for enterig f.close() in the end of the code, it is safer and makes the code clean"
      ]
    },
    {
      "cell_type": "code",
      "execution_count": null,
      "metadata": {
        "id": "-DoxhOjK1qnY"
      },
      "outputs": [],
      "source": [
        "#with\n",
        "with open('file.txt','r') as f:\n",
        "    data=f.read()\n",
        "    print(data)"
      ]
    },
    {
      "cell_type": "markdown",
      "metadata": {
        "id": "-Uz3z4gy2RkZ"
      },
      "source": [
        "**5. Define the purpose of the pandas libraries in python?**"
      ]
    },
    {
      "cell_type": "markdown",
      "metadata": {
        "id": "bmcT1Ql_2bBK"
      },
      "source": [
        "it is used to easily work and analyse data like spreadsheets and databases, helps clean any messy data, organize data using dataframes, import and export data in different file formats like csv, excel, json, etc."
      ]
    },
    {
      "cell_type": "markdown",
      "metadata": {
        "id": "Ueb-iEro3Fdz"
      },
      "source": [
        "**6. How does numpy differ from a regular pythn list?**"
      ]
    },
    {
      "cell_type": "markdown",
      "metadata": {
        "id": "wEr8ssM03T4M"
      },
      "source": [
        "lists - they can hold different ypes of items like numbers, strings. can be slower than numpy array, best for general data storage, needs loop\n",
        "\n",
        "numpy array - holds only one type like numbers, faster than lists, best for math computing, doesnt require a loop"
      ]
    },
    {
      "cell_type": "code",
      "execution_count": 16,
      "metadata": {
        "colab": {
          "base_uri": "https://localhost:8080/"
        },
        "id": "BpD5_ZSq4Blq",
        "outputId": "7efa3295-4ac4-44e9-a1bc-ddabd02fda01"
      },
      "outputs": [
        {
          "name": "stdout",
          "output_type": "stream",
          "text": [
            "[2, 3, 4]\n",
            "[2 3 4]\n"
          ]
        }
      ],
      "source": [
        "#lists\n",
        "my_list=[1,2,3]\n",
        "result=[x+1 for x in my_list]\n",
        "print(result)\n",
        "\n",
        "#numpy array\n",
        "import numpy as np\n",
        "my_array=np.array([1,2,3])\n",
        "result1=my_array + 1\n",
        "print(result1)"
      ]
    },
    {
      "cell_type": "markdown",
      "metadata": {
        "id": "yRIJ5HqH5S2c"
      },
      "source": [
        "**7. What are the assumptions of linear regression?**"
      ]
    },
    {
      "cell_type": "markdown",
      "metadata": {
        "id": "t082yp5C5ddB"
      },
      "source": [
        "the relationship b/w the input and output is a straight line, the differences(errors) b/w predicted and actual values dont depend on each other, it follows a normal bell shaped curve"
      ]
    },
    {
      "cell_type": "markdown",
      "metadata": {
        "id": "rJqNBHHf57es"
      },
      "source": [
        "**8. Explain the use of the sigmoid function in logistic reression?**"
      ]
    },
    {
      "cell_type": "markdown",
      "metadata": {
        "id": "bA4exfgA6amK"
      },
      "source": [
        "sigmoid function turns any number +ve or -ve into value b/w 0 and 1, it helps turn numbers into probabilities to decide b/w two classes"
      ]
    },
    {
      "cell_type": "markdown",
      "metadata": {
        "id": "W4vHogIU5zCi"
      },
      "source": []
    },
    {
      "cell_type": "markdown",
      "metadata": {
        "id": "aoJPZdNQ62eE"
      },
      "source": [
        "**9. What is the diff b/w linear and multiple linear regression?**"
      ]
    },
    {
      "cell_type": "markdown",
      "metadata": {
        "id": "zP3TRIra7Fs5"
      },
      "source": [
        "linear - it uses one input (independent variable) to predict the outcome (dependent variable), it is simple compared to multiple linear, if its only one input/variable\n",
        "\n",
        "multiple linear - it uses two or more input (independent variable) to predict the outcome (dependent variable), it is complex, if there are multiple inputs/variables"
      ]
    },
    {
      "cell_type": "markdown",
      "metadata": {
        "id": "Nnhw-jMX8Aep"
      },
      "source": [
        "**10. What is the purpose of the matplotlib in data visualization?**"
      ]
    },
    {
      "cell_type": "markdown",
      "metadata": {
        "id": "p-rUsXRG8SS3"
      },
      "source": [
        "it is used to visualize data into graphs like line graphs, bar charts, histogram, etc., helps see patterns and trends in the data, works with other tools and libraries like pandas, numpy and jupyter, can save graphs in png or pdf"
      ]
    },
    {
      "cell_type": "code",
      "execution_count": 17,
      "metadata": {
        "colab": {
          "base_uri": "https://localhost:8080/",
          "height": 430
        },
        "id": "T2sgkyJ-8z5l",
        "outputId": "9b33e77f-f09e-4c41-e2e9-6ef6de937f6e"
      },
      "outputs": [
        {
          "data": {
            "image/png": "[encoded data removed]",
            "text/plain": [
              "<Figure size 640x480 with 1 Axes>"
            ]
          },
          "metadata": {},
          "output_type": "display_data"
        }
      ],
      "source": [
        "#example\n",
        "import matplotlib.pyplot as plt\n",
        "x=[1, 2, 3, 4, 5]\n",
        "y=[2, 4, 6, 8, 10]\n",
        "plt.plot(x, y)\n",
        "plt.show()"
      ]
    },
    {
      "cell_type": "markdown",
      "metadata": {
        "id": "_ccb0Ufx9C6L"
      },
      "source": [
        "**11. Write a python program to check if a variable name is valid?**"
      ]
    },
    {
      "cell_type": "code",
      "execution_count": 18,
      "metadata": {
        "colab": {
          "base_uri": "https://localhost:8080/"
        },
        "id": "XVNRV6Ru97lP",
        "outputId": "f67e971d-1833-4a94-bd7a-11bc0fd760c7"
      },
      "outputs": [
        {
          "name": "stdout",
          "output_type": "stream",
          "text": [
            "1var is not a valid variable name.\n"
          ]
        }
      ],
      "source": [
        "import keyword\n",
        "def is_valid_variable_name(name):\n",
        "    if not name.isidentifier() or keyword.iskeyword(name):\n",
        "        return False\n",
        "    return True\n",
        "variable_name=input(\"Enter a variable name: \")\n",
        "if is_valid_variable_name(variable_name):\n",
        "    print(f\"{variable_name} is a valid variable name.\")\n",
        "else:\n",
        "    print(f\"{variable_name} is not a valid variable name.\")"
      ]
    },
    {
      "cell_type": "markdown",
      "metadata": {
        "id": "esy8IzP0-WLe"
      },
      "source": [
        "**12. Create a list of integers and print only even numbers**"
      ]
    },
    {
      "cell_type": "code",
      "execution_count": 19,
      "metadata": {
        "colab": {
          "base_uri": "https://localhost:8080/"
        },
        "id": "-RtwfZNw-8mX",
        "outputId": "8d7cce8c-a2ab-4a36-b070-3a88f74f606e"
      },
      "outputs": [
        {
          "name": "stdout",
          "output_type": "stream",
          "text": [
            "2\n",
            "4\n",
            "6\n",
            "8\n",
            "10\n"
          ]
        }
      ],
      "source": [
        "number=[1,2,3,4,5,6,7,8,9,10]\n",
        "for num in number:\n",
        "  if num%2==0:\n",
        "    print(num)"
      ]
    },
    {
      "cell_type": "markdown",
      "metadata": {
        "id": "VDJTfary_KxE"
      },
      "source": [
        "**13. Write a program to create a tuple and access its elements using indexing**"
      ]
    },
    {
      "cell_type": "code",
      "execution_count": 20,
      "metadata": {
        "colab": {
          "base_uri": "https://localhost:8080/"
        },
        "id": "3AnywkyR_e2n",
        "outputId": "1931d05e-5fa6-49ed-d32a-592f0dc9fc71"
      },
      "outputs": [
        {
          "name": "stdout",
          "output_type": "stream",
          "text": [
            "apple\n",
            "banana\n",
            "cherry\n"
          ]
        }
      ],
      "source": [
        "fruits=(\"apple\",\"banana\",\"cherry\")\n",
        "print(fruits[0])\n",
        "print(fruits[1])\n",
        "print(fruits[2])"
      ]
    },
    {
      "cell_type": "markdown",
      "metadata": {
        "id": "C4zDzUsU_kmA"
      },
      "source": [
        "**14. Add and remove elements from a set in python**"
      ]
    },
    {
      "cell_type": "code",
      "execution_count": 21,
      "metadata": {
        "colab": {
          "base_uri": "https://localhost:8080/"
        },
        "id": "RGEa932G_ymS",
        "outputId": "a8d0a31a-86b8-459c-ea79-f306597c39e9"
      },
      "outputs": [
        {
          "name": "stdout",
          "output_type": "stream",
          "text": [
            "{'orange', 'apple', 'banana', 'cherry'}\n",
            "{'orange', 'apple', 'cherry'}\n"
          ]
        }
      ],
      "source": [
        "fruits={\"apple\",\"banana\",\"cherry\"}\n",
        "fruits.add(\"orange\")\n",
        "print(fruits)\n",
        "fruits.remove(\"banana\")\n",
        "print(fruits)"
      ]
    },
    {
      "cell_type": "markdown",
      "metadata": {
        "id": "OqN4e4CH_9he"
      },
      "source": [
        "**15. Create a dictionary with 3 key:value pairs and print all keys**"
      ]
    },
    {
      "cell_type": "code",
      "execution_count": 22,
      "metadata": {
        "colab": {
          "base_uri": "https://localhost:8080/"
        },
        "id": "0mvX4yiaALfJ",
        "outputId": "50652d0a-3035-421c-afd4-9777adcad584"
      },
      "outputs": [
        {
          "name": "stdout",
          "output_type": "stream",
          "text": [
            "dict_keys(['name', 'age', 'grade'])\n"
          ]
        }
      ],
      "source": [
        "student={\"name\":\"Likhith\",\"age\":21,\"grade\":\"A\"}\n",
        "print(student.keys())"
      ]
    },
    {
      "cell_type": "markdown",
      "metadata": {
        "id": "8uYjYkX_AV-U"
      },
      "source": [
        "**16. Define a function in python that takes two numbers and returns their sum**"
      ]
    },
    {
      "cell_type": "code",
      "execution_count": 23,
      "metadata": {
        "colab": {
          "base_uri": "https://localhost:8080/"
        },
        "id": "vPK_TwE_Anev",
        "outputId": "e6b215f0-bc07-4a21-f618-e4a64337a7ac"
      },
      "outputs": [
        {
          "name": "stdout",
          "output_type": "stream",
          "text": [
            "15\n"
          ]
        }
      ],
      "source": [
        "def sum(a,b):\n",
        "  return a+b\n",
        "result=sum(5,10)\n",
        "print(result)"
      ]
    },
    {
      "cell_type": "markdown",
      "metadata": {
        "id": "Km1DsAZ9AxL5"
      },
      "source": [
        "**17. Read a text file and count the numbers of lines**"
      ]
    },
    {
      "cell_type": "code",
      "execution_count": null,
      "metadata": {
        "id": "j1d0xIsCAwmq"
      },
      "outputs": [],
      "source": [
        "with open(\"file.txt\",\"r\") as f:\n",
        "  lines=f.readlines()\n",
        "  print(len(lines))"
      ]
    },
    {
      "cell_type": "markdown",
      "metadata": {
        "id": "3Oda--H6BKbn"
      },
      "source": [
        "**18. Create a pandas dataframe from a dictionary**"
      ]
    },
    {
      "cell_type": "code",
      "execution_count": 24,
      "metadata": {
        "colab": {
          "base_uri": "https://localhost:8080/",
          "height": 143
        },
        "id": "E1t43hs3BSnF",
        "outputId": "60e190ec-a138-4598-f464-521cf7b3f1c8"
      },
      "outputs": [
        {
          "data": {
            "text/html": [
              "<div>\n",
              "<style scoped>\n",
              "    .dataframe tbody tr th:only-of-type {\n",
              "        vertical-align: middle;\n",
              "    }\n",
              "\n",
              "    .dataframe tbody tr th {\n",
              "        vertical-align: top;\n",
              "    }\n",
              "\n",
              "    .dataframe thead th {\n",
              "        text-align: right;\n",
              "    }\n",
              "</style>\n",
              "<table border=\"1\" class=\"dataframe\">\n",
              "  <thead>\n",
              "    <tr style=\"text-align: right;\">\n",
              "      <th></th>\n",
              "      <th>Name</th>\n",
              "      <th>Age</th>\n",
              "    </tr>\n",
              "  </thead>\n",
              "  <tbody>\n",
              "    <tr>\n",
              "      <th>0</th>\n",
              "      <td>Likhith</td>\n",
              "      <td>21</td>\n",
              "    </tr>\n",
              "    <tr>\n",
              "      <th>1</th>\n",
              "      <td>Rohan</td>\n",
              "      <td>22</td>\n",
              "    </tr>\n",
              "    <tr>\n",
              "      <th>2</th>\n",
              "      <td>John</td>\n",
              "      <td>23</td>\n",
              "    </tr>\n",
              "  </tbody>\n",
              "</table>\n",
              "</div>"
            ],
            "text/plain": [
              "      Name  Age\n",
              "0  Likhith   21\n",
              "1    Rohan   22\n",
              "2     John   23"
            ]
          },
          "execution_count": 24,
          "metadata": {},
          "output_type": "execute_result"
        }
      ],
      "source": [
        "import pandas as pd\n",
        "data={\n",
        "    \"Name\": [\"Likhith\", \"Rohan\", \"John\"],\n",
        "    \"Age\": [21, 22, 23]\n",
        "    }\n",
        "df=pd.DataFrame(data)\n",
        "df"
      ]
    },
    {
      "cell_type": "markdown",
      "metadata": {
        "id": "FqXeWMXCBwll"
      },
      "source": [
        "**19. Use numpy to generate an array of 10 rando integers**"
      ]
    },
    {
      "cell_type": "code",
      "execution_count": 25,
      "metadata": {
        "colab": {
          "base_uri": "https://localhost:8080/"
        },
        "id": "0tQL5yvGBwMR",
        "outputId": "5b5f1bba-d8b6-4b88-bd70-243a13204d3d"
      },
      "outputs": [
        {
          "name": "stdout",
          "output_type": "stream",
          "text": [
            "[9 4 0 1 6 5 1 6 5 8]\n"
          ]
        }
      ],
      "source": [
        "import numpy as np\n",
        "random_num=np.random.randint(10,size=10)\n",
        "print(random_num)"
      ]
    },
    {
      "cell_type": "markdown",
      "metadata": {
        "id": "TWBdfIjNCK5u"
      },
      "source": [
        "**20. Plot a line graph using matplotlib**"
      ]
    },
    {
      "cell_type": "code",
      "execution_count": 26,
      "metadata": {
        "colab": {
          "base_uri": "https://localhost:8080/",
          "height": 472
        },
        "id": "TIikSETuCKis",
        "outputId": "4811fe22-90f9-4f42-c254-8b0e97a9e690"
      },
      "outputs": [
        {
          "data": {
            "image/png": "[encoded data removed]",
            "text/plain": [
              "<Figure size 640x480 with 1 Axes>"
            ]
          },
          "metadata": {},
          "output_type": "display_data"
        }
      ],
      "source": [
        "import matplotlib.pyplot as plt\n",
        "\n",
        "x=[1,2,3,4,5]\n",
        "y=[2,4,6,8,10]\n",
        "plt.plot(x,y)\n",
        "plt.title(\"Line Graph\")\n",
        "plt.xlabel(\"X-axis\")\n",
        "plt.ylabel(\"Y-axis\")\n",
        "plt.show()"
      ]
    },
    {
      "cell_type": "markdown",
      "metadata": {
        "id": "9ScdNp4VCm1u"
      },
      "source": [
        "**21. Write a function to check if number is prime**"
      ]
    },
    {
      "cell_type": "code",
      "execution_count": 27,
      "metadata": {
        "colab": {
          "base_uri": "https://localhost:8080/"
        },
        "id": "XZF6hGQzCzfT",
        "outputId": "77cedfea-6f45-4d7c-d8d5-e789d7ec38a7"
      },
      "outputs": [
        {
          "name": "stdout",
          "output_type": "stream",
          "text": [
            "True\n",
            "False\n"
          ]
        }
      ],
      "source": [
        "def prime(n):\n",
        "  if n<=1:\n",
        "    return False\n",
        "  for i in range(2,int(n**0.5)+1):\n",
        "    if n%i==0:\n",
        "      return False\n",
        "  return True\n",
        "print(prime(17))\n",
        "print(prime(12))"
      ]
    },
    {
      "cell_type": "markdown",
      "metadata": {
        "id": "fnWVMbLXDSVF"
      },
      "source": [
        "**22. Convert a to a set and print the unique elements**"
      ]
    },
    {
      "cell_type": "code",
      "execution_count": 28,
      "metadata": {
        "colab": {
          "base_uri": "https://localhost:8080/"
        },
        "id": "j0InF0VqDgzZ",
        "outputId": "c7cff4af-011c-4df4-fd72-a4fb97baa795"
      },
      "outputs": [
        {
          "data": {
            "text/plain": [
              "{1, 2, 3, 4, 5}"
            ]
          },
          "execution_count": 28,
          "metadata": {},
          "output_type": "execute_result"
        }
      ],
      "source": [
        "num=[1,1,2,2,3,3,3,4,4,4,5]\n",
        "unique=set(num)\n",
        "unique"
      ]
    },
    {
      "cell_type": "markdown",
      "metadata": {
        "id": "S5p0EBb3Dz6x"
      },
      "source": [
        "**23. Write a program to merge two dictionaries**"
      ]
    },
    {
      "cell_type": "code",
      "execution_count": 29,
      "metadata": {
        "colab": {
          "base_uri": "https://localhost:8080/"
        },
        "id": "6jtcjTSLEBxf",
        "outputId": "245766f7-83e8-46b9-e6b3-43b8da3482dc"
      },
      "outputs": [
        {
          "data": {
            "text/plain": [
              "{'a': 1, 'b': 2, 'c': 3, 'd': 4}"
            ]
          },
          "execution_count": 29,
          "metadata": {},
          "output_type": "execute_result"
        }
      ],
      "source": [
        "d1={\"a\":1,\"b\":2}\n",
        "d2={\"c\":3,\"d\":4}\n",
        "merged={**d1,**d2}\n",
        "merged"
      ]
    },
    {
      "cell_type": "markdown",
      "metadata": {
        "id": "jFo4YoEyBK4L"
      },
      "source": [
        "**24. Create a list of squares of numbers from 1 to 10 using list comprehension.**"
      ]
    },
    {
      "cell_type": "code",
      "execution_count": 30,
      "metadata": {
        "colab": {
          "base_uri": "https://localhost:8080/"
        },
        "id": "wsQrL28fBO-u",
        "outputId": "9c72ff46-7ef2-48cb-b6de-004538eb7974"
      },
      "outputs": [
        {
          "name": "stdout",
          "output_type": "stream",
          "text": [
            "[1, 4, 9, 16, 25, 36, 49, 64, 81, 100]\n"
          ]
        }
      ],
      "source": [
        "squares=[x**2 for x in range(1,11)]\n",
        "print(squares)"
      ]
    },
    {
      "cell_type": "markdown",
      "metadata": {
        "id": "ZHndOgpEBUqI"
      },
      "source": [
        "**25. Read a CSV file using pandas and display the first 5 rows.**"
      ]
    },
    {
      "cell_type": "code",
      "execution_count": null,
      "metadata": {
        "id": "4N806ctlBbMM"
      },
      "outputs": [],
      "source": [
        "import pandas as pd\n",
        "data=pd.read_csv('filename.csv')\n",
        "print(data.head())"
      ]
    },
    {
      "cell_type": "markdown",
      "metadata": {
        "id": "NglfhCi9Bmip"
      },
      "source": [
        "**26. Create a NumPy array of shape (3,3) filled with zeros.**"
      ]
    },
    {
      "cell_type": "code",
      "execution_count": 31,
      "metadata": {
        "colab": {
          "base_uri": "https://localhost:8080/"
        },
        "id": "dWgLmdi_BrfJ",
        "outputId": "fa0710d6-b297-4efa-ab89-6fcb7444e461"
      },
      "outputs": [
        {
          "name": "stdout",
          "output_type": "stream",
          "text": [
            "[[0. 0. 0.]\n",
            " [0. 0. 0.]\n",
            " [0. 0. 0.]]\n"
          ]
        }
      ],
      "source": [
        "import numpy as np\n",
        "zeroes=np.zeros((3, 3))\n",
        "print(zeroes)"
      ]
    },
    {
      "cell_type": "markdown",
      "metadata": {
        "id": "4Dj7RJUEB4OH"
      },
      "source": [
        "**27. Plot a bar chart showing the population of 5 cities.**"
      ]
    },
    {
      "cell_type": "code",
      "execution_count": 32,
      "metadata": {
        "colab": {
          "base_uri": "https://localhost:8080/",
          "height": 487
        },
        "id": "SGo7ryLDB8dV",
        "outputId": "0d30ecf6-9f45-4bbd-b6f6-a3989d42b05f"
      },
      "outputs": [
        {
          "data": {
            "image/png": "[encoded data removed]",
            "text/plain": [
              "<Figure size 800x500 with 1 Axes>"
            ]
          },
          "metadata": {},
          "output_type": "display_data"
        }
      ],
      "source": [
        "import matplotlib.pyplot as plt\n",
        "city=['New York','Bengaluru','Delhi','Vancouver','Mumbai']\n",
        "population=[4532000,7580132,9734213,2131410,8487890]\n",
        "plt.figure(figsize=(8, 5))\n",
        "plt.bar(city, population)\n",
        "plt.xlabel('City')\n",
        "plt.ylabel('Population')\n",
        "plt.title('Population of 5 cities')\n",
        "plt.show()"
      ]
    },
    {
      "cell_type": "markdown",
      "metadata": {
        "id": "pRiGZeVLDLe5"
      },
      "source": [
        "**28. Perform simple linear regression using sklearn.**"
      ]
    },
    {
      "cell_type": "code",
      "execution_count": 33,
      "metadata": {
        "colab": {
          "base_uri": "https://localhost:8080/",
          "height": 543
        },
        "id": "uiLXRrciDQsn",
        "outputId": "ad5e2c25-c6ed-48af-828d-9df2942b6ada"
      },
      "outputs": [
        {
          "name": "stdout",
          "output_type": "stream",
          "text": [
            "Intercept: [2.02221511]\n",
            "Coefficient: [[2.9936935]]\n",
            "Mean Squared Error: 0.009924386487246476\n",
            "R-squared: 0.9868523821370109\n"
          ]
        },
        {
          "data": {
            "image/png": "[encoded data removed]",
            "text/plain": [
              "<Figure size 640x480 with 1 Axes>"
            ]
          },
          "metadata": {},
          "output_type": "display_data"
        }
      ],
      "source": [
        "import numpy as np\n",
        "import matplotlib.pyplot as plt\n",
        "from sklearn.linear_model import LinearRegression\n",
        "from sklearn.metrics import mean_squared_error, r2_score\n",
        "\n",
        "np.random.seed(0)\n",
        "X=np.random.rand(100,1)\n",
        "y=3*X+2+np.random.randn(100,1)/10\n",
        "\n",
        "model=LinearRegression()\n",
        "\n",
        "model.fit(X,y)\n",
        "\n",
        "y_pred=model.predict(X)\n",
        "\n",
        "print(\"Intercept:\",model.intercept_)\n",
        "print(\"Coefficient:\",model.coef_)\n",
        "\n",
        "print(\"Mean Squared Error:\",mean_squared_error(y,y_pred))\n",
        "print(\"R-squared:\",r2_score(y,y_pred))\n",
        "\n",
        "plt.scatter(X,y,color='blue',label='Data points')\n",
        "plt.plot(X,y_pred,color='red',linewidth=2,label='Regression line')\n",
        "plt.xlabel('X')\n",
        "plt.ylabel('y')\n",
        "plt.title('Simple Linear Regression')\n",
        "plt.legend()\n",
        "plt.show()"
      ]
    },
    {
      "cell_type": "markdown",
      "metadata": {
        "id": "VhQRnpPwEzRi"
      },
      "source": [
        "**29. Calculate the mean and standard deviation of a NumPy array.**"
      ]
    },
    {
      "cell_type": "code",
      "execution_count": 34,
      "metadata": {
        "colab": {
          "base_uri": "https://localhost:8080/"
        },
        "id": "AtHyHbctE3ZF",
        "outputId": "b88a65ba-1f51-4fb9-96f6-7b5f25387436"
      },
      "outputs": [
        {
          "name": "stdout",
          "output_type": "stream",
          "text": [
            "Mean: 3.0\n",
            "Standard Deviation: 1.4142135623730951\n"
          ]
        }
      ],
      "source": [
        "import numpy as np\n",
        "\n",
        "array=np.array([1,2,3,4,5])\n",
        "mean=np.mean(array)\n",
        "std=np.std(array)\n",
        "\n",
        "print(\"Mean:\",mean)\n",
        "print(\"Standard Deviation:\",std)"
      ]
    },
    {
      "cell_type": "markdown",
      "metadata": {
        "id": "xcTAjiVZJnac"
      },
      "source": [
        "**30. Write a function that returns the factorial of a number.**"
      ]
    },
    {
      "cell_type": "code",
      "execution_count": 35,
      "metadata": {
        "colab": {
          "base_uri": "https://localhost:8080/"
        },
        "id": "2HDGXJ9VJ0o_",
        "outputId": "2525ed7e-81c2-46b6-b129-6d67e98a4d2f"
      },
      "outputs": [
        {
          "name": "stdout",
          "output_type": "stream",
          "text": [
            "6\n"
          ]
        }
      ],
      "source": [
        "def factorial(n):\n",
        "    if n<0:\n",
        "      return \"Not viable\"\n",
        "    elif n==0 or n==1:\n",
        "      return 1\n",
        "    else:\n",
        "        return n*factorial(n-1)\n",
        "\n",
        "print(factorial(3))"
      ]
    },
    {
      "cell_type": "markdown",
      "metadata": {
        "id": "t2haCVZwJ9dv"
      },
      "source": [
        "**31. Append an element to a list and remove an element from it.**"
      ]
    },
    {
      "cell_type": "code",
      "execution_count": 36,
      "metadata": {
        "colab": {
          "base_uri": "https://localhost:8080/"
        },
        "id": "kAlZ1Pb1KA74",
        "outputId": "2b0e476c-abee-410f-835e-690cddd8f114"
      },
      "outputs": [
        {
          "name": "stdout",
          "output_type": "stream",
          "text": [
            "After appending 7: [1, 2, 3, 4, 5, 7]\n",
            "After removing 2: [1, 3, 4, 5, 7]\n"
          ]
        }
      ],
      "source": [
        "my_list=[1,2,3,4,5]\n",
        "my_list.append(7)\n",
        "print(\"After appending 7:\",my_list)\n",
        "my_list.remove(2)\n",
        "print(\"After removing 2:\",my_list)"
      ]
    },
    {
      "cell_type": "markdown",
      "metadata": {
        "id": "gPGuvtdyKYuQ"
      },
      "source": [
        "**32. Use a tuple to store the RGB values of a color.**"
      ]
    },
    {
      "cell_type": "code",
      "execution_count": 37,
      "metadata": {
        "colab": {
          "base_uri": "https://localhost:8080/"
        },
        "id": "qiapdwX4Kcrr",
        "outputId": "c7430d9d-e9bf-46d0-e5c9-a8e45d7c672c"
      },
      "outputs": [
        {
          "name": "stdout",
          "output_type": "stream",
          "text": [
            "RGB Color: (255, 0, 0)\n",
            "Red: 255\n",
            "Green: 0\n",
            "Blue: 0\n"
          ]
        }
      ],
      "source": [
        "rgb=(255,0,0)\n",
        "print(\"RGB Color:\",rgb)\n",
        "print(\"Red:\",rgb[0])\n",
        "print(\"Green:\",rgb[1])\n",
        "print(\"Blue:\",rgb[2])"
      ]
    },
    {
      "cell_type": "markdown",
      "metadata": {
        "id": "LeFabO-iK1oz"
      },
      "source": [
        "**33. Create a set of vowels and check if a character is in the set.**"
      ]
    },
    {
      "cell_type": "code",
      "execution_count": 38,
      "metadata": {
        "colab": {
          "base_uri": "https://localhost:8080/"
        },
        "id": "ywMPQd8SJ9ET",
        "outputId": "d8ab1385-08a6-49e1-9a8a-8f8303e05e61"
      },
      "outputs": [
        {
          "name": "stdout",
          "output_type": "stream",
          "text": [
            "'a' is a vowel.\n"
          ]
        }
      ],
      "source": [
        "vowels={'a','e','i','o','u'}\n",
        "char=input(\"Enter character: \")\n",
        "\n",
        "if char.lower() in vowels:\n",
        "    print(f\"'{char}' is a vowel.\")\n",
        "else:\n",
        "    print(f\"'{char}' is not a vowel.\")"
      ]
    },
    {
      "cell_type": "markdown",
      "metadata": {
        "id": "x1FjlXWXLsC6"
      },
      "source": [
        "**34. Write a program to update a value in a dictionary.**"
      ]
    },
    {
      "cell_type": "code",
      "execution_count": 39,
      "metadata": {
        "colab": {
          "base_uri": "https://localhost:8080/"
        },
        "id": "6LUuqjTILZDC",
        "outputId": "d2e36309-87a8-4f70-facc-5e5a4301a42e"
      },
      "outputs": [
        {
          "name": "stdout",
          "output_type": "stream",
          "text": [
            "Original: {'Rahul': 85, 'Likhith': 78, 'Akash': 92}\n",
            "Updated dictionary: {'Rahul': 85, 'Likhith': 88, 'Akash': 92}\n"
          ]
        }
      ],
      "source": [
        "student_scores={\"Rahul\":85,\"Likhith\":78,\"Akash\":92}\n",
        "print(\"Original:\",student_scores)\n",
        "\n",
        "student_scores[\"Likhith\"]=88\n",
        "print(\"Updated dictionary:\",student_scores)"
      ]
    },
    {
      "cell_type": "markdown",
      "metadata": {
        "id": "iP-6pOHpL6Y8"
      },
      "source": [
        "**35. Read a file and print its contents in uppercase.**"
      ]
    },
    {
      "cell_type": "code",
      "execution_count": null,
      "metadata": {
        "id": "qwD0asHjMAKU"
      },
      "outputs": [],
      "source": [
        "filename=\"sample.txt\"\n",
        "\n",
        "try:\n",
        "    with open(filename, 'r') as file:\n",
        "        for line in file:\n",
        "            print(line.upper(), end='')\n",
        "except FileNotFoundError:\n",
        "    print(f\"File '{filename}' not found.\")"
      ]
    },
    {
      "cell_type": "markdown",
      "metadata": {
        "id": "00yEQ-3JMQfJ"
      },
      "source": [
        "**36. Group data in a Pandas DataFrame by a column and calculate mean.**"
      ]
    },
    {
      "cell_type": "code",
      "execution_count": 40,
      "metadata": {
        "colab": {
          "base_uri": "https://localhost:8080/"
        },
        "id": "cYDkJuQOMXKb",
        "outputId": "8aec5672-9e6d-40f4-d098-6ac205cd19fa"
      },
      "outputs": [
        {
          "name": "stdout",
          "output_type": "stream",
          "text": [
            "Department\n",
            "HR       49500.0\n",
            "IT       61000.0\n",
            "Sales    52500.0\n",
            "Name: Salary, dtype: float64\n"
          ]
        }
      ],
      "source": [
        "import pandas as pd\n",
        "data = {'Department':['Sales','Sales','HR','HR','IT','IT'],'Employee':['Rahul','Karthik','Aftab','Mala','Sundar','Eshwar'],'Salary':[50000,55000,48000,51000,60000,62000]}\n",
        "df=pd.DataFrame(data)\n",
        "mean_salary=df.groupby('Department')['Salary'].mean()\n",
        "print(mean_salary)"
      ]
    },
    {
      "cell_type": "markdown",
      "metadata": {
        "id": "pPUCHdp7M7R3"
      },
      "source": [
        "**37. Create a scatter plot using matplotlib.**"
      ]
    },
    {
      "cell_type": "code",
      "execution_count": 41,
      "metadata": {
        "colab": {
          "base_uri": "https://localhost:8080/",
          "height": 472
        },
        "id": "eB6v3qfWNEtt",
        "outputId": "312723ab-077f-4d58-fb49-9361eb83fd8e"
      },
      "outputs": [
        {
          "data": {
            "image/png": "[encoded data removed]",
            "text/plain": [
              "<Figure size 640x480 with 1 Axes>"
            ]
          },
          "metadata": {},
          "output_type": "display_data"
        }
      ],
      "source": [
        "import matplotlib.pyplot as plt\n",
        "\n",
        "x=[10,20,30,40,50]\n",
        "y=[8,15,13,25,30]\n",
        "\n",
        "plt.scatter(x,y)\n",
        "plt.xlabel('X Axis')\n",
        "plt.ylabel('Y Axis')\n",
        "plt.title('Sample Scatter Plot')\n",
        "plt.show()"
      ]
    },
    {
      "cell_type": "markdown",
      "metadata": {
        "id": "Uu8IDdgENasQ"
      },
      "source": [
        "**38. Implement multiple linear regression using sklearn.**"
      ]
    },
    {
      "cell_type": "code",
      "execution_count": 42,
      "metadata": {
        "colab": {
          "base_uri": "https://localhost:8080/"
        },
        "id": "tE9zfp59Ndc-",
        "outputId": "397a8197-de5f-428c-a374-d124eb5aa959"
      },
      "outputs": [
        {
          "name": "stdout",
          "output_type": "stream",
          "text": [
            "Coefficients: [ 5.00000000e+03  9.59485405e-12 -6.62139216e-12]\n",
            "Intercept: 34999.9999999997\n",
            "Predicted Salary: 49999.999999999985\n"
          ]
        },
        {
          "name": "stderr",
          "output_type": "stream",
          "text": [
            "/home/parallels/Documents/Machine_Learning_Python_Project_IBM_Internship/myenv/lib/python3.12/site-packages/sklearn/utils/validation.py:2749: UserWarning: X does not have valid feature names, but LinearRegression was fitted with feature names\n",
            "  warnings.warn(\n"
          ]
        }
      ],
      "source": [
        "import pandas as pd\n",
        "from sklearn.linear_model import LinearRegression\n",
        "from sklearn.model_selection import train_test_split\n",
        "\n",
        "data={\n",
        "    'Experience':[1,2,3,4,5],\n",
        "    'Test_Score':[80,82,85,90,92],\n",
        "    'Interview_Score':[70,75,78,85,87],\n",
        "    'Salary':[40000,45000,50000,55000,60000]\n",
        "}\n",
        "\n",
        "df=pd.DataFrame(data)\n",
        "\n",
        "X=df[['Experience','Test_Score','Interview_Score']]\n",
        "y=df['Salary']\n",
        "\n",
        "model=LinearRegression()\n",
        "model.fit(X, y)\n",
        "\n",
        "print(\"Coefficients:\",model.coef_)\n",
        "print(\"Intercept:\",model.intercept_)\n",
        "\n",
        "new_candidate=[[3,85,80]]\n",
        "predicted_salary=model.predict(new_candidate)\n",
        "print(\"Predicted Salary:\",predicted_salary[0])"
      ]
    },
    {
      "cell_type": "markdown",
      "metadata": {
        "id": "WfuSAPLlggFZ"
      },
      "source": [
        "**39. Write a Python function to count vowels in a string.**"
      ]
    },
    {
      "cell_type": "code",
      "execution_count": 44,
      "metadata": {
        "id": "lvpi4qclgnKv"
      },
      "outputs": [
        {
          "name": "stdout",
          "output_type": "stream",
          "text": [
            "Number of vowels: 3\n"
          ]
        }
      ],
      "source": [
        "def count_vowels(s):\n",
        "    vowels={'a','e','i','o','u'}\n",
        "    count=0\n",
        "    for char in s.lower():\n",
        "        if char in vowels:\n",
        "            count+=1\n",
        "    return count\n",
        "\n",
        "text=\"Hello, World!\"\n",
        "print(\"Number of vowels:\",count_vowels(text))"
      ]
    },
    {
      "cell_type": "markdown",
      "metadata": {
        "id": "xu6xtTXJgu2n"
      },
      "source": [
        "**40. Create a NumPy array and perform element-wise addition with another array.**"
      ]
    },
    {
      "cell_type": "code",
      "execution_count": 45,
      "metadata": {
        "colab": {
          "base_uri": "https://localhost:8080/"
        },
        "id": "PCs3IGvMguSr",
        "outputId": "cf3d05d1-a74c-4c63-b30c-194a602bf1dd"
      },
      "outputs": [
        {
          "name": "stdout",
          "output_type": "stream",
          "text": [
            "Array 1: [1 2 3]\n",
            "Array 2: [4 5 6]\n",
            "Element-wise Addition Result: [5 7 9]\n"
          ]
        }
      ],
      "source": [
        "import numpy as np\n",
        "\n",
        "array1=np.array([1,2,3])\n",
        "array2=np.array([4,5,6])\n",
        "\n",
        "result=array1+array2\n",
        "\n",
        "print(\"Array 1:\",array1)\n",
        "print(\"Array 2:\",array2)\n",
        "print(\"Element-wise Addition Result:\",result)"
      ]
    },
    {
      "cell_type": "markdown",
      "metadata": {
        "id": "S_Q9ZoLFg7BW"
      },
      "source": [
        "**41. Create a DataFrame with missing values and fill them with the column mean.**"
      ]
    },
    {
      "cell_type": "code",
      "execution_count": 46,
      "metadata": {
        "colab": {
          "base_uri": "https://localhost:8080/"
        },
        "id": "PqFGgvX2g-Hl",
        "outputId": "7421f34b-5acd-46dc-b3ed-d371c44ea3b4"
      },
      "outputs": [
        {
          "name": "stdout",
          "output_type": "stream",
          "text": [
            "Original DataFrame:\n",
            "     A    B   C\n",
            "0  1.0  5.0   9\n",
            "1  2.0  NaN  10\n",
            "2  NaN  NaN  11\n",
            "3  4.0  8.0  12\n",
            "\n",
            "DataFrame after filling missing values with column mean:\n",
            "          A    B   C\n",
            "0  1.000000  5.0   9\n",
            "1  2.000000  6.5  10\n",
            "2  2.333333  6.5  11\n",
            "3  4.000000  8.0  12\n"
          ]
        }
      ],
      "source": [
        "import pandas as pd\n",
        "import numpy as np\n",
        "\n",
        "data={\n",
        "    'A':[1,2,np.nan,4],\n",
        "    'B':[5,np.nan,np.nan,8],\n",
        "    'C':[9,10,11,12]\n",
        "}\n",
        "df=pd.DataFrame(data)\n",
        "\n",
        "print(\"Original DataFrame:\")\n",
        "print(df)\n",
        "\n",
        "df_filled=df.fillna(df.mean(numeric_only=True))\n",
        "\n",
        "print(\"\\nDataFrame after filling missing values with column mean:\")\n",
        "print(df_filled)"
      ]
    },
    {
      "cell_type": "markdown",
      "metadata": {
        "id": "f742RhIShGWh"
      },
      "source": [
        "**42. Plot a histogram for a list of numbers.**"
      ]
    },
    {
      "cell_type": "code",
      "execution_count": 47,
      "metadata": {
        "colab": {
          "base_uri": "https://localhost:8080/",
          "height": 472
        },
        "id": "1mwq2Hq2hY-g",
        "outputId": "d4954dc4-fb4b-4e66-876e-b806ab51c4f1"
      },
      "outputs": [
        {
          "data": {
            "image/png": "[encoded data removed]",
            "text/plain": [
              "<Figure size 640x480 with 1 Axes>"
            ]
          },
          "metadata": {},
          "output_type": "display_data"
        }
      ],
      "source": [
        "import matplotlib.pyplot as plt\n",
        "\n",
        "data=[1,2,2,3,3,3,4,4,4,4,5,5,5,5,5]\n",
        "\n",
        "plt.hist(data,bins=5,edgecolor='black')\n",
        "\n",
        "plt.title(\"Histogram of Numbers\")\n",
        "plt.xlabel(\"Value\")\n",
        "plt.ylabel(\"Frequency\")\n",
        "\n",
        "plt.show()"
      ]
    },
    {
      "cell_type": "markdown",
      "metadata": {
        "id": "CMvgQu4HhfjD"
      },
      "source": [
        "**43. Implement logistic regression using sklearn.**"
      ]
    },
    {
      "cell_type": "code",
      "execution_count": 48,
      "metadata": {
        "colab": {
          "base_uri": "https://localhost:8080/"
        },
        "id": "KxPnUr1vhkIi",
        "outputId": "9567a82e-3561-4643-b1b9-4a999ab8cd6c"
      },
      "outputs": [
        {
          "name": "stdout",
          "output_type": "stream",
          "text": [
            "Accuracy: 1.0\n"
          ]
        }
      ],
      "source": [
        "from sklearn.datasets import load_iris\n",
        "from sklearn.linear_model import LogisticRegression\n",
        "from sklearn.model_selection import train_test_split\n",
        "from sklearn.metrics import accuracy_score\n",
        "\n",
        "iris=load_iris()\n",
        "X=iris.data\n",
        "y=(iris.target==0).astype(int)\n",
        "\n",
        "X_train,X_test,y_train,y_test=train_test_split(X,y,test_size=0.2,random_state=42)\n",
        "\n",
        "model=LogisticRegression()\n",
        "model.fit(X_train,y_train)\n",
        "\n",
        "y_pred=model.predict(X_test)\n",
        "\n",
        "accuracy=accuracy_score(y_test,y_pred)\n",
        "print(\"Accuracy:\",accuracy)"
      ]
    },
    {
      "cell_type": "markdown",
      "metadata": {
        "id": "pB2UlCAlhzHC"
      },
      "source": [
        "**44. Save a Python dictionary to a JSON file.**"
      ]
    },
    {
      "cell_type": "code",
      "execution_count": null,
      "metadata": {
        "colab": {
          "base_uri": "https://localhost:8080/"
        },
        "id": "0JceLd0Wh6KE",
        "outputId": "a9c042fc-b934-4ec7-e46e-f49df2346e52"
      },
      "outputs": [],
      "source": [
        "import json\n",
        "\n",
        "data={\n",
        "    \"name\":\"Alice\",\n",
        "    \"age\":30,\n",
        "    \"city\":\"New York\"\n",
        "}\n",
        "\n",
        "with open(\"data.json\",\"w\") as file:\n",
        "    json.dump(data,file,indent=4)\n",
        "\n",
        "print(\"Dictionary saved to data.json\")"
      ]
    },
    {
      "cell_type": "markdown",
      "metadata": {
        "id": "tidPBP-eiCCj"
      },
      "source": [
        "**45. Create a dictionary from two lists using zip().**"
      ]
    },
    {
      "cell_type": "code",
      "execution_count": 49,
      "metadata": {
        "colab": {
          "base_uri": "https://localhost:8080/"
        },
        "id": "Fnw5vn1PiFXP",
        "outputId": "a953df88-f7ac-4111-9712-f4b11defdd36"
      },
      "outputs": [
        {
          "name": "stdout",
          "output_type": "stream",
          "text": [
            "{'name': 'Alice', 'age': 30, 'city': 'New York'}\n"
          ]
        }
      ],
      "source": [
        "keys=['name','age','city']\n",
        "values=['Alice',30,'New York']\n",
        "\n",
        "my_dict=dict(zip(keys, values))\n",
        "\n",
        "print(my_dict)"
      ]
    },
    {
      "cell_type": "markdown",
      "metadata": {
        "id": "vEjRY6_KiO-C"
      },
      "source": [
        "**46. Read a CSV file, filter rows based on a condition, and save to a new CSV.**"
      ]
    },
    {
      "cell_type": "code",
      "execution_count": null,
      "metadata": {
        "id": "z6dvAUVyiQgu"
      },
      "outputs": [],
      "source": [
        "import pandas as pd\n",
        "\n",
        "df=pd.read_csv(\"input.csv\")\n",
        "\n",
        "filtered_df=df[df['age']>25]\n",
        "\n",
        "filtered_df.to_csv(\"filtered_output.csv\",index=False)\n",
        "\n",
        "print(\"Filtered data saved to filtered_output.csv\")"
      ]
    },
    {
      "cell_type": "markdown",
      "metadata": {
        "id": "0Ipp5inMiaXy"
      },
      "source": [
        "**47. Plot a pie chart showing percentage distribution of 4 categories.**"
      ]
    },
    {
      "cell_type": "code",
      "execution_count": 50,
      "metadata": {
        "colab": {
          "base_uri": "https://localhost:8080/",
          "height": 428
        },
        "id": "yVeGVt4iig7g",
        "outputId": "057ae6a9-0fed-428d-f44d-a28c719ac880"
      },
      "outputs": [
        {
          "data": {
            "image/png": "[encoded data removed]",
            "text/plain": [
              "<Figure size 640x480 with 1 Axes>"
            ]
          },
          "metadata": {},
          "output_type": "display_data"
        }
      ],
      "source": [
        "import matplotlib.pyplot as plt\n",
        "\n",
        "labels=['Category A','Category B','Category C','Category D']\n",
        "values=[25,35,20,20]\n",
        "\n",
        "plt.pie(values,labels=labels,autopct='%1.1f%%',startangle=90)\n",
        "\n",
        "plt.axis('equal')\n",
        "\n",
        "plt.title(\"Percentage Distribution of Categories\")\n",
        "\n",
        "plt.show()"
      ]
    },
    {
      "cell_type": "markdown",
      "metadata": {
        "id": "P9nae_-6isiB"
      },
      "source": [
        "**48. Create a function to calculate the area of a circle given its radius.**"
      ]
    },
    {
      "cell_type": "code",
      "execution_count": 51,
      "metadata": {
        "colab": {
          "base_uri": "https://localhost:8080/"
        },
        "id": "0urM6B_fix_i",
        "outputId": "d0838285-d794-4b22-c652-65f9cde2e0b6"
      },
      "outputs": [
        {
          "name": "stdout",
          "output_type": "stream",
          "text": [
            "Area of circle with radius 5 is 78.54\n"
          ]
        }
      ],
      "source": [
        "import math\n",
        "\n",
        "def area_of_circle(radius):\n",
        "    return math.pi*radius**2\n",
        "\n",
        "r=5\n",
        "print(f\"Area of circle with radius {r} is {area_of_circle(r):.2f}\")"
      ]
    },
    {
      "cell_type": "markdown",
      "metadata": {
        "id": "e0muJlnCi2RU"
      },
      "source": [
        "**49. Create a 2D NumPy array and extract its diagonal elements.**"
      ]
    },
    {
      "cell_type": "code",
      "execution_count": 52,
      "metadata": {
        "colab": {
          "base_uri": "https://localhost:8080/"
        },
        "id": "WyOKddFoi6as",
        "outputId": "239464a6-453f-4d3a-a5f1-5eb28d1bf204"
      },
      "outputs": [
        {
          "name": "stdout",
          "output_type": "stream",
          "text": [
            "2D Array:\n",
            "[[1 2 3]\n",
            " [4 5 6]\n",
            " [7 8 9]]\n",
            "\n",
            "Diagonal elements:\n",
            "[1 5 9]\n"
          ]
        }
      ],
      "source": [
        "import numpy as np\n",
        "\n",
        "arr=np.array([[1,2,3],[4,5,6],[7,8,9]])\n",
        "\n",
        "diagonal=np.diagonal(arr)\n",
        "\n",
        "print(\"2D Array:\")\n",
        "print(arr)\n",
        "print(\"\\nDiagonal elements:\")\n",
        "print(diagonal)"
      ]
    },
    {
      "cell_type": "markdown",
      "metadata": {
        "id": "vDOT790Ii_pi"
      },
      "source": [
        "**50. Plot the residuals of a linear regression model using matplotlib.**"
      ]
    },
    {
      "cell_type": "code",
      "execution_count": 53,
      "metadata": {
        "colab": {
          "base_uri": "https://localhost:8080/",
          "height": 472
        },
        "id": "eEJW-bQojFeg",
        "outputId": "9dc268be-e78f-4d97-b157-39bdf5020df7"
      },
      "outputs": [
        {
          "data": {
            "image/png": "[encoded data removed]",
            "text/plain": [
              "<Figure size 640x480 with 1 Axes>"
            ]
          },
          "metadata": {},
          "output_type": "display_data"
        }
      ],
      "source": [
        "import numpy as np\n",
        "import matplotlib.pyplot as plt\n",
        "from sklearn.linear_model import LinearRegression\n",
        "from sklearn.model_selection import train_test_split\n",
        "\n",
        "X=np.array([[1],[2],[3],[4],[5],[6],[7],[8],[9],[10]])\n",
        "y=np.array([3,4,2,5,6,7,8,9,10,12])\n",
        "\n",
        "X_train,X_test,y_train,y_test=train_test_split(X,y,random_state=42)\n",
        "\n",
        "model=LinearRegression()\n",
        "model.fit(X_train, y_train)\n",
        "\n",
        "y_pred=model.predict(X_test)\n",
        "\n",
        "residuals=y_test-y_pred\n",
        "\n",
        "plt.scatter(y_pred, residuals)\n",
        "plt.axhline(y=0, color='r', linestyle='--')\n",
        "plt.xlabel('Predicted values')\n",
        "plt.ylabel('Residuals')\n",
        "plt.title('Residual Plot')\n",
        "plt.show()"
      ]
    }
  ],
  "metadata": {
    "colab": {
      "provenance": []
    },
    "kernelspec": {
      "display_name": "myenv",
      "language": "python",
      "name": "python3"
    },
    "language_info": {
      "codemirror_mode": {
        "name": "ipython",
        "version": 3
      },
      "file_extension": ".py",
      "mimetype": "text/x-python",
      "name": "python",
      "nbconvert_exporter": "python",
      "pygments_lexer": "ipython3",
      "version": "3.12.3"
    }
  },
  "nbformat": 4,
  "nbformat_minor": 0
}
