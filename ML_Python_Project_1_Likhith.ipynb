{
 "cells": [
  {
   "cell_type": "markdown",
   "id": "64c7f1ea",
   "metadata": {},
   "source": [
    "**1. Movie Recommendation System**"
   ]
  },
  {
   "cell_type": "code",
   "execution_count": 16,
   "id": "6e3a7667",
   "metadata": {},
   "outputs": [],
   "source": [
    "#Required libraries\n",
    "import pandas as pd\n",
    "import numpy as np\n",
    "from sklearn.feature_extraction.text import TfidfVectorizer\n",
    "from sklearn.metrics.pairwise import cosine_similarity\n",
    "import ast"
   ]
  },
  {
   "cell_type": "code",
   "execution_count": 17,
   "id": "461735b0",
   "metadata": {},
   "outputs": [],
   "source": [
    "#Load datasets\n",
    "movies=pd.read_csv('/home/parallels/Documents/Machine_Learning_Python_Project_IBM_Internship/Datasets/tmdb_5000_movies.csv')\n",
    "credits=pd.read_csv('/home/parallels/Documents/Machine_Learning_Python_Project_IBM_Internship/Datasets/tmdb_5000_credits.csv')\n",
    "\n",
    "#Merge the datasets based on title\n",
    "movies=movies.merge(credits, on='title')"
   ]
  },
  {
   "cell_type": "code",
   "execution_count": 18,
   "id": "4e7c153a",
   "metadata": {},
   "outputs": [],
   "source": [
    "#Preprocessing\n",
    "#Cleaning\n",
    "#Keeping only useful cloums\n",
    "movies=movies[['movie_id','title','overview','genres','cast','crew']]\n",
    "\n",
    "#Drop rows with missing info\n",
    "movies.dropna(subset=['overview'], inplace=True)"
   ]
  },
  {
   "cell_type": "code",
   "execution_count": 19,
   "id": "beb2b6b1",
   "metadata": {},
   "outputs": [],
   "source": [
    "#Parsing\n",
    "def convert(obj,limit=None):\n",
    "  try:\n",
    "    L=ast.literal_eval(obj)\n",
    "    if limit is None:\n",
    "      return [i['name'] for i in L]\n",
    "    else:\n",
    "      return [i['name'] for i in L[:limit]]\n",
    "  except:\n",
    "    return []\n",
    "\n",
    "def get_director(obj):\n",
    "    try:\n",
    "        L=ast.literal_eval(obj)\n",
    "        for i in L:\n",
    "            if i['job']=='Director':\n",
    "              return [i['name']]\n",
    "        return []\n",
    "    except:\n",
    "        return []\n",
    "\n",
    "#Apply functions\n",
    "movies['genres']=movies['genres'].apply(convert)\n",
    "movies['genres']=movies['genres'].apply(lambda x: [i.lower() for i in x])\n",
    "movies['cast']=movies['cast'].apply(lambda x: convert(x, 3))\n",
    "movies['crew']=movies['crew'].apply(get_director)"
   ]
  },
  {
   "cell_type": "code",
   "execution_count": 20,
   "id": "1650d09e",
   "metadata": {},
   "outputs": [],
   "source": [
    "#Combine columns into one string per movie\n",
    "movies['soup']=movies['overview'] + ' ' + \\\n",
    "movies['genres'].apply(lambda x: ' '.join(x)) + ' ' + \\\n",
    "movies['cast'].apply(lambda x: ' '.join(x)) + ' ' + \\\n",
    "movies['crew'].apply(lambda x: ' '.join(x))"
   ]
  },
  {
   "cell_type": "code",
   "execution_count": 21,
   "id": "82227e2f",
   "metadata": {},
   "outputs": [],
   "source": [
    "#Vectorization using tf-idf\n",
    "tfidf=TfidfVectorizer(stop_words='english')\n",
    "tfidf_matrix=tfidf.fit_transform(movies['soup'])"
   ]
  },
  {
   "cell_type": "code",
   "execution_count": 22,
   "id": "6a0c5b03",
   "metadata": {},
   "outputs": [],
   "source": [
    "#Cosine similarity matrix\n",
    "cosine_sim=cosine_similarity(tfidf_matrix,tfidf_matrix)"
   ]
  },
  {
   "cell_type": "code",
   "execution_count": 23,
   "id": "9cc5f279",
   "metadata": {},
   "outputs": [],
   "source": [
    "#Reset the index of the 'movies' dataframe and create pandas series called indices\n",
    "movies=movies.reset_index(drop=True)\n",
    "indices=pd.Series(movies.index,index=movies['title']).drop_duplicates()\n",
    "\n",
    "#Function to recommend similar movies based on title of the movie\n",
    "def recommend_title(title,num_recommendations=5):\n",
    "    idx=indices.get(title)\n",
    "\n",
    "    if idx is None:\n",
    "        title_lower=title.lower()\n",
    "        matched=next((t for t in indices.index if t.lower()==title_lower),None)\n",
    "        if matched:\n",
    "            idx=indices[matched]\n",
    "        else:\n",
    "            return \"Movie not found!\"\n",
    "\n",
    "    sim_scores_dense=cosine_sim[idx].toarray().flatten() if hasattr(cosine_sim[idx],'toarray') else cosine_sim[idx]\n",
    "    sim_scores_list=sim_scores_dense.tolist()\n",
    "\n",
    "    sim_scores=list(enumerate(sim_scores_list))\n",
    "    sim_scores=sorted(sim_scores,key=lambda x:x[1],reverse=True)[1:num_recommendations+1]\n",
    "    movie_indices=[i[0] for i in sim_scores]\n",
    "\n",
    "    recommended_movies=movies[['title','genres']].iloc[movie_indices]\n",
    "    return recommended_movies\n",
    "\n",
    "#Function to recommend similar movies based on the genre of the movie\n",
    "def recommend_genre(genre_string, num_recommendations=5):\n",
    "    genres=[g.strip().lower() for g in genre_string.split(',')]\n",
    "\n",
    "    genre_movies=movies[movies['genres'].apply(lambda x: all(g in x for g in genres))]\n",
    "\n",
    "    if genre_movies.empty:\n",
    "        return \"No movies found with all specified genres!\"\n",
    "\n",
    "    genre_indices=genre_movies.index.tolist()\n",
    "\n",
    "    sim_matrix=cosine_sim[genre_indices]\n",
    "    avg_sim_scores=sim_matrix.mean(axis=0)\n",
    "\n",
    "    sim_scores=list(enumerate(avg_sim_scores))\n",
    "    sim_scores=sorted(sim_scores,key=lambda x: x[1], reverse=True)\n",
    "\n",
    "    top_indices=[i[0] for i in sim_scores[:num_recommendations]]\n",
    "    return movies[['title', 'genres']].iloc[top_indices].reset_index(drop=True)"
   ]
  },
  {
   "cell_type": "code",
   "execution_count": 24,
   "id": "a0a9b0fd",
   "metadata": {},
   "outputs": [
    {
     "data": {
      "text/html": [
       "<div>\n",
       "<style scoped>\n",
       "    .dataframe tbody tr th:only-of-type {\n",
       "        vertical-align: middle;\n",
       "    }\n",
       "\n",
       "    .dataframe tbody tr th {\n",
       "        vertical-align: top;\n",
       "    }\n",
       "\n",
       "    .dataframe thead th {\n",
       "        text-align: right;\n",
       "    }\n",
       "</style>\n",
       "<table border=\"1\" class=\"dataframe\">\n",
       "  <thead>\n",
       "    <tr style=\"text-align: right;\">\n",
       "      <th></th>\n",
       "      <th>title</th>\n",
       "      <th>genres</th>\n",
       "    </tr>\n",
       "  </thead>\n",
       "  <tbody>\n",
       "    <tr>\n",
       "      <th>870</th>\n",
       "      <td>Superman II</td>\n",
       "      <td>[action, adventure, fantasy, science fiction]</td>\n",
       "    </tr>\n",
       "    <tr>\n",
       "      <th>2435</th>\n",
       "      <td>Superman IV: The Quest for Peace</td>\n",
       "      <td>[action, adventure, science fiction]</td>\n",
       "    </tr>\n",
       "    <tr>\n",
       "      <th>10</th>\n",
       "      <td>Superman Returns</td>\n",
       "      <td>[adventure, fantasy, action, science fiction]</td>\n",
       "    </tr>\n",
       "    <tr>\n",
       "      <th>1297</th>\n",
       "      <td>Superman III</td>\n",
       "      <td>[comedy, action, adventure, fantasy, science f...</td>\n",
       "    </tr>\n",
       "    <tr>\n",
       "      <th>4405</th>\n",
       "      <td>The Helix... Loaded</td>\n",
       "      <td>[action, comedy, science fiction]</td>\n",
       "    </tr>\n",
       "  </tbody>\n",
       "</table>\n",
       "</div>"
      ],
      "text/plain": [
       "                                 title  \\\n",
       "870                        Superman II   \n",
       "2435  Superman IV: The Quest for Peace   \n",
       "10                    Superman Returns   \n",
       "1297                      Superman III   \n",
       "4405               The Helix... Loaded   \n",
       "\n",
       "                                                 genres  \n",
       "870       [action, adventure, fantasy, science fiction]  \n",
       "2435               [action, adventure, science fiction]  \n",
       "10        [adventure, fantasy, action, science fiction]  \n",
       "1297  [comedy, action, adventure, fantasy, science f...  \n",
       "4405                  [action, comedy, science fiction]  "
      ]
     },
     "execution_count": 24,
     "metadata": {},
     "output_type": "execute_result"
    }
   ],
   "source": [
    "recommend_title(input(\"Enter a movie title: \"))"
   ]
  },
  {
   "cell_type": "code",
   "execution_count": 25,
   "id": "0c8de9fa",
   "metadata": {},
   "outputs": [
    {
     "data": {
      "text/html": [
       "<div>\n",
       "<style scoped>\n",
       "    .dataframe tbody tr th:only-of-type {\n",
       "        vertical-align: middle;\n",
       "    }\n",
       "\n",
       "    .dataframe tbody tr th {\n",
       "        vertical-align: top;\n",
       "    }\n",
       "\n",
       "    .dataframe thead th {\n",
       "        text-align: right;\n",
       "    }\n",
       "</style>\n",
       "<table border=\"1\" class=\"dataframe\">\n",
       "  <thead>\n",
       "    <tr style=\"text-align: right;\">\n",
       "      <th></th>\n",
       "      <th>title</th>\n",
       "      <th>genres</th>\n",
       "    </tr>\n",
       "  </thead>\n",
       "  <tbody>\n",
       "    <tr>\n",
       "      <th>0</th>\n",
       "      <td>The Helix... Loaded</td>\n",
       "      <td>[action, comedy, science fiction]</td>\n",
       "    </tr>\n",
       "    <tr>\n",
       "      <th>1</th>\n",
       "      <td>Mad Max: Fury Road</td>\n",
       "      <td>[action, adventure, science fiction, thriller]</td>\n",
       "    </tr>\n",
       "    <tr>\n",
       "      <th>2</th>\n",
       "      <td>Last Action Hero</td>\n",
       "      <td>[adventure, fantasy, action, comedy, family]</td>\n",
       "    </tr>\n",
       "    <tr>\n",
       "      <th>3</th>\n",
       "      <td>X-Men: Days of Future Past</td>\n",
       "      <td>[action, adventure, fantasy, science fiction]</td>\n",
       "    </tr>\n",
       "    <tr>\n",
       "      <th>4</th>\n",
       "      <td>Man of Steel</td>\n",
       "      <td>[action, adventure, fantasy, science fiction]</td>\n",
       "    </tr>\n",
       "  </tbody>\n",
       "</table>\n",
       "</div>"
      ],
      "text/plain": [
       "                        title                                          genres\n",
       "0         The Helix... Loaded               [action, comedy, science fiction]\n",
       "1          Mad Max: Fury Road  [action, adventure, science fiction, thriller]\n",
       "2            Last Action Hero    [adventure, fantasy, action, comedy, family]\n",
       "3  X-Men: Days of Future Past   [action, adventure, fantasy, science fiction]\n",
       "4                Man of Steel   [action, adventure, fantasy, science fiction]"
      ]
     },
     "execution_count": 25,
     "metadata": {},
     "output_type": "execute_result"
    }
   ],
   "source": [
    "recommend_genre(input(\"Enter a genre: \"))"
   ]
  }
 ],
 "metadata": {
  "kernelspec": {
   "display_name": "myenv",
   "language": "python",
   "name": "python3"
  },
  "language_info": {
   "codemirror_mode": {
    "name": "ipython",
    "version": 3
   },
   "file_extension": ".py",
   "mimetype": "text/x-python",
   "name": "python",
   "nbconvert_exporter": "python",
   "pygments_lexer": "ipython3",
   "version": "3.12.3"
  }
 },
 "nbformat": 4,
 "nbformat_minor": 5
}
